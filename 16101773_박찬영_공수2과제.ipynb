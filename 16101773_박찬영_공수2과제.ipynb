{
  "nbformat": 4,
  "nbformat_minor": 0,
  "metadata": {
    "colab": {
      "name": "16101773 박찬영 공수2과제",
      "provenance": [],
      "include_colab_link": true
    },
    "kernelspec": {
      "name": "python3",
      "display_name": "Python 3"
    }
  },
  "cells": [
    {
      "cell_type": "markdown",
      "metadata": {
        "id": "view-in-github",
        "colab_type": "text"
      },
      "source": [
        "<a href=\"https://colab.research.google.com/github/chanyoung-0823/-/blob/master/16101773_%EB%B0%95%EC%B0%AC%EC%98%81_%EA%B3%B5%EC%88%982%EA%B3%BC%EC%A0%9C.ipynb\" target=\"_parent\"><img src=\"https://colab.research.google.com/assets/colab-badge.svg\" alt=\"Open In Colab\"/></a>"
      ]
    },
    {
      "cell_type": "code",
      "metadata": {
        "id": "AdOzpCXsgsj1",
        "colab_type": "code",
        "colab": {}
      },
      "source": [
        ""
      ],
      "execution_count": 0,
      "outputs": []
    },
    {
      "cell_type": "markdown",
      "metadata": {
        "id": "rLHwX4s-g1L8",
        "colab_type": "text"
      },
      "source": [
        "**1.Laplace's Equation in the Sphere**\n",
        "\n",
        "(a) Solve this problem by separation of variables\n",
        "\n",
        "구형좌표계에서 $\\begin{align*} h_{r}=1, h_{\\theta}=r\\sin\\phi, h_{\\phi}=r \\end{align*}$, 변수분리를 한다 $\\begin{align*} f_{1}(r)=r^{2},f_{2}(\\theta)=1, f_{3})\\phi)=\\sin\\phi \\end{align*}$, giving a Stackel determinant of $\\begin{align*} S=1 \\end{align*}$.\n",
        "\n",
        "라플라시안은\n",
        ">$\\begin{align*} \\nabla^{2}=u_{rr} +\\frac{2}{r} u_r &+\\frac{1}{r^2}u_{\\phi\\phi} +\\frac{\\cot\\phi}{r^2} u_{\\phi} +\\frac{1}{r^2\\sin^2\\phi}u_{\\theta\\theta} = 0 \\end{align*}$ 이다.\n",
        "\n",
        "구형좌표계에서 라플라시안을 풀기위해 변수설정 $\\begin{align*} F({r,\\theta,\\phi})= R({r})\\Theta({\\theta}){\\Phi}({\\phi}) \\end{align*}$\n",
        ">Then the Helmholtz differential equation becomes $\\begin{align*} \\frac{d^2R} {dr^2}{\\Phi\\Theta} + \\frac{2}{r}\\frac{dR}{dr}{\\Phi\\Theta} + \\frac{1}{r^2\\sin^2\\theta}\\frac{d^2\\Theta}{d\\theta^2}{\\Phi R}+ \\frac{cos\\phi}{r^2 \\sin\\phi}\\frac{d\\Phi}{d\\phi}{\\Theta R} +\\frac{1}{r^2}\\frac{d^2\\Phi}{d\\phi^2}{\\Theta R}=0. \\end{align*}$\n",
        "\n",
        "\n",
        "\n",
        "R을 분리한다. R$\\begin{align*}\\Theta\\Phi \\end{align*}$,\n",
        "$\\begin{align*}\\frac{r^2 \\sin^2\\phi}{\\Phi R \\Theta}{\\Phi\\Theta}\\frac{d^2R}{dr^2}+\\frac{2}{r}\\frac{r^2 \\sin^2\\phi}{\\Phi R \\Theta}{\\Phi\\Theta}\\frac{dR}{dr}+\\frac{1}{r^2\\sin^2\\phi}\\frac{r^2\\sin^2\\phi}{\\Phi R \\Theta}{\\Phi R}\\frac{d^2\\Theta}{d\\theta^2}+\\frac{\\cos\\phi}{r^2\\sin\\phi}\\frac{r^2\\sin^2\\phi}{\\Phi\\Theta R}\\frac{d\\Phi}{d\\phi}{\\Theta R}+\\frac{1}{r^2}\\frac{r^2\\sin^2\\phi}{\\Phi R \\Theta}\\frac{d^2\\Phi}{d\\phi^2}{\\Theta R}=0 \\end{align*}$\n",
        "\n",
        "\n",
        "\n",
        "$\\begin{align*} \\frac{d^2\\Theta}{d\\theta^2}\\frac{1}{\\Theta}=-{m^2}\n",
        ",\\\\\\Theta(\\theta)=A_me^{im\\theta},\\\\\\Theta(\\theta)=S_m\\sin(m\\theta)+C_m\\cos(m\\theta).\\\\\\frac{r^2}{R}\\frac{d^2R}{dr^2}+\\frac{2r}{R}\\frac{dR}{dr}+\\frac{1}{\\sin^2\\phi}(\\frac{\\cos\\phi\\sin\\phi}{\\Phi}\\frac{d\\Phi}{d\\phi}+\\frac{\\sin^2\\phi}{\\Phi}\\frac{d^2\\Phi}{d\\phi^2}-m^2)=0 \\\\\\frac{r^2}{R}\\frac{d^2R}{dr^2}+\\frac{2r}{R}\\frac{dR}{dr}=l(l+1). \\end{align*}$ \n",
        ">$\\begin{align*} r^2\\frac{d^2R}{dr^2}+2r\\frac{dR}{dr}=l(l+1)R.\\\\R=\\sum_{n=0}^{\\infty} {a_nr^{n+c}}. \\end{align*}$\n",
        "\n",
        "$\\begin{align*} r^2 \\sum_{n=0}^\\infty (n+c)(n+c-1)a_nr^{n+c-2}+2r\\sum_{n=0}^\\infty ({n+c}){a_nr^{n+c-1}}-l(l+1)\\sum_{n=0}^\\infty {a_n}r^{n+c}=0 \\\\\\sum_{n=0}^\\infty ({n+c})(n+c-1)a_nr^{n+c}+2\\sum_{n=0}^\\infty (n+c)a_nr^{n+c-1}-l(l+1)\\sum_{n=0}^\\infty a_nr^{n+c}=0. \\\\\\sum_{n=0}^\\infty [(n+c)(n+c+1)-l(l+1)]a_nr^{n+c}=0. \\end{align*}$\n",
        "\n",
        "\n",
        "$\\begin{align*} l(l+1)-\\frac{m^2}{\\sin^2\\phi}+\\frac{\\cos\\phi}{\\sin^2\\phi}+\\frac{\\cos\\phi}{\\sin\\phi}\\frac{1}{\\Phi}\\frac{d\\Phi}{d\\phi}+\\frac{1}{d^2\\Phi}{d\\phi^2}=0 \\\\\\Phi\\prime\\prime+\\frac{\\cos\\phi}{\\sin\\phi}{\\Phi\\prime}+[l(l+1)-\\frac{m^2}{sin^2\\phi}]\\Phi=0 \\\\\\sum_{l=0}^\\infty\\sum_{m=-l}^l ({A_lr^l+B_lr^{-l-1}})P_l^m(\\cos\\phi)e^{-im\\theta}=\\sum_{l=0}^\\infty\\sum_{m=-l}^l({A_lr^l+B_lr^{-l-1}})Y_l^m(\\cos\\phi),\\\\Y_l^m(\\theta,\\phi)=P_l^m(\\cos\\phi)e^{-im\\theta} \\\\\\sum_{l=0}^\\infty\\sum_{m=0}^l ({A_lr^l+B_lr^{-l-1}})P_l^m(\\cos\\phi)[S_m\\sin(m\\theta)+C_m\\cos(m\\theta)] \\\\\\sum_{l=0}^\\infty\\sum_{m=0}^l ({A_lr^l+B_lr^{-l-1}})P_l^m(\\cos\\phi)[S_l^m\\sin(m\\theta)+C_l^m\\cos(m\\theta)]=\\sum_{l=0}^\\infty\\sum_{m=-l}^l ({A_lr^l+B_lr^{-l-1}})(S_l^m Y_l^{m(0)}(\\theta,\\phi)+C_l^mY_l^{m(e)}(\\theta,\\phi)) \n",
        "\\\\Y_l^{m(0)}(\\Theta,\\phi)=P_l^m(\\cos\\phi)\\sin(m\\theta) \\\\Y_l^{m(e)}(\\theta,\\phi)=P_l^m(\\cos\\phi)\\cos(m\\theta) \n",
        "\\\\F(r,\\phi)=\\sum_{l=0}^\\infty (A_lr^l+B_lr^{-r-l}P_l(\\cos\\phi). \\end{align*}$\n"
      ]
    },
    {
      "cell_type": "markdown",
      "metadata": {
        "id": "ZJJdP6FPg7y3",
        "colab_type": "text"
      },
      "source": [
        "P, P', Q 점\n",
        "\n",
        ">$\\begin{align*}\n",
        " \\; &P(r,\\phi,\\theta), P'(\\frac{1}{r},\\phi,\\theta), Q(R,\\vartheta,\\varphi) \\;\\;\\; \\\\\n",
        " \\end{align*}$\n",
        "\n",
        "PQ=L, PQ'=L'이라 할때\n",
        ">$\\begin{align*}\n",
        " \\; &L^2=r^2+R^2 -2rR\\cos(\\gamma) \\;\\;\\; \\\\\n",
        " \\end{align*}$"
      ]
    },
    {
      "cell_type": "markdown",
      "metadata": {
        "id": "_NNKhFCIhELA",
        "colab_type": "text"
      },
      "source": [
        ">$\\begin{align*}\n",
        " \\; &L'^2=(\\frac{1}{r^2})^2+R^2 -2(\\frac{1}{r^2})R\\cos(\\gamma) \\;\\;\\; \\\\\n",
        " \\end{align*}$\n",
        " \n",
        " >$\\begin{align*}\n",
        " \\; &\\cos(\\gamma)=\\cos(\\theta)\\cos(\\vartheta)+\\sin(\\theta)\\sin(\\vartheta)\\cos(\\phi-\\varphi) \\;\\;\\; \\\\\n",
        " \\end{align*}$\n",
        " \n",
        "  >$\\begin{align*}\n",
        " \\; &\\frac{1}{r^2}(r^2u_r)_r=4\\pi\\delta(r) \\;\\;\\; \\\\\n",
        " \\end{align*}$\n",
        " \n",
        "   >$\\begin{align*}\n",
        " \\; &\\int\\frac{1}{r^2}(r^2u_r)_r=\\int4\\pi\\delta(r)dr \\;\\;\\; \\\\\n",
        " \\end{align*}$\n",
        " \n",
        " Dirac delta function이므로\n",
        " \n",
        "   >$\\begin{align*}\n",
        " \\; &\\frac{1}{r^2}(r^2u_r)_r=4\\pi \\;\\;\\; \\\\\n",
        " \\end{align*}$\n",
        " \n",
        "   >$\\begin{align*}\n",
        " \\; &v=\\frac{1}{r^2}, dv=-\\frac{2}{r^3}dr \\;\\;\\; \\\\\n",
        " \\end{align*}$\n",
        " \n",
        "   >$\\begin{align*}\n",
        " \\; &du=\\frac{d}{dr}[r^2\\frac{dG}{dr}]dr, v=r^2\\frac{dG}{dr} \\;\\;\\; \\\\\n",
        " \\end{align*}$\n",
        " \n",
        "   >$\\begin{align*}\n",
        " \\; &(\\frac{1}{r^2})(r^2\\frac{dG}{dr})-\\int(r^2\\frac{dG}{dr})(-\\frac{2}{r^3}dr) = 4\\pi \\;\\;\\; \\\\\n",
        " \\end{align*}$\n",
        " \n",
        "   >$\\begin{align*}\n",
        " \\; &\\frac{dG}{dr}+2\\int\\frac{1}{r}\\frac{dG}{dr}dr = 4\\pi \\;\\;\\; \\\\\n",
        " \\end{align*}$\n",
        " \n",
        "   >$\\begin{align*}\n",
        " \\; &v=\\frac{1}{r}, dv=-\\frac{1}{r^2}dr \\;\\;\\; \\\\\n",
        " \\end{align*}$\n",
        " \n",
        "   >$\\begin{align*}\n",
        " \\; &du=\\frac{dG}{dr}dr, u=G \\;\\;\\; \\\\\n",
        " \\end{align*}$\n",
        " \n",
        "   >$\\begin{align*}\n",
        " \\; &\\frac{dG}{dr}+2[(\\frac{1}{r})(G)-\\int(G(-\\frac{1}{r^2}dr)] = 4\\pi \\;\\;\\; \\\\\n",
        " \\end{align*}$\n",
        " \n",
        "   >$\\begin{align*}\n",
        " \\; &\\frac{dG}{dr}+2[\\frac{G}{r}+\\int\\frac{G}{r^2}dr] = 4\\pi \\;\\;\\; \\\\\n",
        " \\end{align*}$\n",
        " \n",
        "   >$\\begin{align*}\n",
        " \\; &\\frac{dG}{dr}+\\frac{2G}{r}+2\\int\\frac{G}{r^2}dr = 4\\pi \\;\\;\\; \\\\\n",
        " \\end{align*}$ \n",
        " \n",
        "   >$\\begin{align*}\n",
        " \\; &\\frac{d^2G}{dr^2}+(\\frac{2}{r}\\frac{dG}{dr}-\\frac{2G}{r^2})+\\frac{2G}{r} = 0 \\;\\;\\; \\\\\n",
        " \\end{align*}$ \n",
        "\n",
        "   >$\\begin{align*}\n",
        " \\; &\\frac{d^2G}{dr^2}+\\frac{2}{r}\\frac{dG}{dr} = 0 \\;\\;\\; \\\\\n",
        " \\end{align*}$ \n",
        " \n",
        "  >$\\begin{align*}\n",
        " \\; &G(Q,P)=\\frac{1}{L}-\\frac{1}{rL'} \\;\\;\\; \\\\\n",
        " \\end{align*}$"
      ]
    },
    {
      "cell_type": "markdown",
      "metadata": {
        "id": "pTPuolFLhJ3h",
        "colab_type": "text"
      },
      "source": [
        "$\\displaystyle u(r,\\phi,\\theta) = \\int_0^{2\\pi} \\int_0^\\pi K(r,\\phi,\\theta; R,\\varphi,\\vartheta)\\, g(\\varphi,\\vartheta) \\sin\\varphi \\,d\\varphi \\, d\\vartheta$"
      ]
    },
    {
      "cell_type": "markdown",
      "metadata": {
        "id": "JP2sh52EhQZv",
        "colab_type": "text"
      },
      "source": [
        ">$\\begin{align*}\n",
        " \\; &L^2=r^2+R^2 -2rR\\cos(\\gamma) \\;\\;\\; \\\\\n",
        " \\end{align*}$\n",
        " >$\\begin{align*}\n",
        " \\; &L'^2=(\\frac{1}{r^2})^2+R^2 -2(\\frac{1}{r^2})R\\cos(\\gamma) \\;\\;\\; \\\\\n",
        " \\end{align*}$\n",
        "  >$\\begin{align*}\n",
        " \\; &\\cos(\\gamma)=\\cos(\\theta)\\cos(\\vartheta)+\\sin(\\theta)\\sin(\\vartheta)\\cos(\\phi-\\varphi) \\;\\;\\; \\\\\n",
        " \\end{align*}$ 이므로"
      ]
    },
    {
      "cell_type": "markdown",
      "metadata": {
        "id": "qLJGZehEhTo_",
        "colab_type": "text"
      },
      "source": [
        "따라서 $\\displaystyle u(r,\\phi,\\theta) = \\int_0^{2\\pi} \\int_0^\\pi (\\frac{1}{L}-\\frac{1}{rL'})\\, g(\\varphi,\\vartheta) \\sin\\varphi \\,d\\varphi \\, d\\vartheta$\n",
        "\n",
        ">단,$\\begin{align*}\n",
        " \\; &L^2=r^2+R^2 -2rR\\cos(\\gamma) \\;\\;\\; \\\\\n",
        " \\end{align*}$\n",
        " >$\\begin{align*}\n",
        " \\; &L'^2=(\\frac{1}{r^2})^2+R^2 -2(\\frac{1}{r^2})R\\cos(\\gamma) \\;\\;\\; \\\\\n",
        " \\end{align*}$\n",
        "  >$\\begin{align*}\n",
        " \\; &\\cos(\\gamma)=\\cos(\\theta)\\cos(\\vartheta)+\\sin(\\theta)\\sin(\\vartheta)\\cos(\\phi-\\varphi) \\;\\;\\; \\\\\n",
        " \\end{align*}$"
      ]
    },
    {
      "cell_type": "markdown",
      "metadata": {
        "id": "D4nXmmbLhd0s",
        "colab_type": "text"
      },
      "source": [
        "**2. Poisson's Equation for the Sphere**"
      ]
    },
    {
      "cell_type": "markdown",
      "metadata": {
        "id": "cICH8NQHhgNH",
        "colab_type": "text"
      },
      "source": [
        "(a) solve by taking the finite Fourier Transforms"
      ]
    },
    {
      "cell_type": "markdown",
      "metadata": {
        "id": "KBdGVNiEhil9",
        "colab_type": "text"
      },
      "source": [
        "포아송 방정식\n",
        ">$\\displaystyle \\nabla^2 \\phi = \\frac{\\rho}{\\epsilon_0} $\n",
        "\n"
      ]
    },
    {
      "cell_type": "markdown",
      "metadata": {
        "id": "bu5-G73Xhk11",
        "colab_type": "text"
      },
      "source": [
        "구형 좌표\n",
        ">$\\displaystyle G(r,r^\\prime) = -\\frac{1}{4\\pi(r^2-2rr^\\prime cos\\gamma-r^{\\prime 2} )^{\\frac{1}{2}}} $"
      ]
    },
    {
      "cell_type": "markdown",
      "metadata": {
        "id": "UEG0kyWohpCW",
        "colab_type": "text"
      },
      "source": [
        ">$\\displaystyle cos\\gamma=cos\\theta cos\\theta^\\prime + sin\\theta sin\\theta^prime cos(\\varphi-\\varphi^\\prime) $"
      ]
    },
    {
      "cell_type": "markdown",
      "metadata": {
        "id": "5LIqpScjhroa",
        "colab_type": "text"
      },
      "source": [
        "r 과 사이 각도 r'에 대해\n",
        ">$\\displaystyle G(r,r^\\prime)= -\\frac{1}{4\\pi r^\\prime} \\sum_{l=0}^\\infty (\\frac{r^\\prime}{r})^l P_l(cos\\gamma) $"
      ]
    },
    {
      "cell_type": "markdown",
      "metadata": {
        "id": "XvPEdMIwhupF",
        "colab_type": "text"
      },
      "source": [
        "r'<r, 그리고\n",
        ">$\\displaystyle G(r,r^\\prime)= -\\frac{1}{4\\pi r^\\prime} \\sum_{l=0}^\\infty (\\frac{r}{r^\\prime})^l P_l(cos\\gamma) $"
      ]
    },
    {
      "cell_type": "markdown",
      "metadata": {
        "id": "my5Q7wG-hxyw",
        "colab_type": "text"
      },
      "source": [
        "에 대한 r'>r. 따라서, 구형 고조파 가산 정리를 이용하면\n",
        ">$\\displaystyle G(r,r^\\prime)=\\sum_{l=0}^\\infty \\sum_{m=-l}^{m=+l} \\frac{1}{2l+1}  (\\frac{r_<^l}{r_> ^{l+1}}) Y_{l,m}(\\theta^\\prime, \\varphi^\\prime)Y_{l,m}(\\theta,\\varphi) $ "
      ]
    },
    {
      "cell_type": "markdown",
      "metadata": {
        "id": "-mYumSN_h1Pr",
        "colab_type": "text"
      },
      "source": [
        "포아송 방정식에 대한 일반적인 해법\n",
        ">$\\displaystyle {\\phi}(r) = -\\frac{1}{\\epsilon_0} \\int G(r, r^\\prime)\\, \\rho(r^\\prime) \\,d\\ V^\\prime $"
      ]
    },
    {
      "cell_type": "markdown",
      "metadata": {
        "id": "iQiQErubh4LI",
        "colab_type": "text"
      },
      "source": [
        ">$\\displaystyle {\\phi}(r) = \\frac{1}{\\epsilon_0} \\sum_{l=0}^\\infty \\sum_{m=-l}^{m=l} \\frac{1}{2l+1} [r^l P_{l,m}(r) + \\frac{q_{l,m}(r)}{r^{l+1}}] Y_{l,m}(\\theta. \\varphi) $"
      ]
    },
    {
      "cell_type": "markdown",
      "metadata": {
        "id": "Bu4MqXJbh6jV",
        "colab_type": "text"
      },
      "source": [
        "한편,\n",
        ">$\\displaystyle P_{l,m}(r) = \\int_r^{∞} ∮ (1/r^{\\prime l+1})p(r \\prime,\\theta, \\varphi)\\, Y_{l,m}(\\theta, \\varphi) \\,\\rho^{\\prime 2} \\,d\\ Ω \\,d\\ r^\\prime$,"
      ]
    },
    {
      "cell_type": "markdown",
      "metadata": {
        "id": "Xv3ioL70h9iY",
        "colab_type": "text"
      },
      "source": [
        ">$\\displaystyle q_{l,m}(r) = \\int_0^{r} ∮ r^{\\prime l}p(r \\prime,\\theta, \\varphi)\\, Y_{l,m}(\\theta, \\varphi) \\,\\rho^{\\prime 2} \\,d\\ Ω \\,d\\ r^\\prime$."
      ]
    },
    {
      "cell_type": "markdown",
      "metadata": {
        "id": "0zA266IEiAFI",
        "colab_type": "text"
      },
      "source": [
        "(b) derive $G(r,\\phi,\\theta; \\rho,\\varphi,\\vartheta)$ in the equivalent integral formula:"
      ]
    },
    {
      "cell_type": "markdown",
      "metadata": {
        "id": "I4FXp5x5iEl6",
        "colab_type": "text"
      },
      "source": [
        "$\\begin{align*}\n",
        " u(r,\\phi,\\theta)=R(r)Y(\\phi,\\theta)\\end{align*}$ 로 변수분리 할 수 있다."
      ]
    },
    {
      "cell_type": "markdown",
      "metadata": {
        "id": "8n_wTlFniHJo",
        "colab_type": "text"
      },
      "source": [
        "$\\begin{align*}\n",
        " r^2R''+2rR'+(kr^2-\\lambda)R=0\\end{align*}$이고, $\\begin{align*}\n",
        "\\lambda=n(n+1)\\end{align*}, n=0,1,2,\\cdot\\cdot\\cdot$이다.\n",
        "\n",
        "또한 , $\\begin{align*}\n",
        "R(R)=0\\end{align*}$이다. * 괄호 속의 R은 반지름의 최댓값이다"
      ]
    },
    {
      "cell_type": "markdown",
      "metadata": {
        "id": "wWeXmJWQiKr1",
        "colab_type": "text"
      },
      "source": [
        "$\\begin{align*}\n",
        " r^2R''+2rR'+(kr^2-\\lambda)R=0\\end{align*}$이고, $\\begin{align*}\n",
        "\\lambda=n(n+1)\\end{align*}, n=0,1,2,\\cdot\\cdot\\cdot$이다.\n",
        "\n",
        "또한 , $\\begin{align*}\n",
        "R(R)=0\\end{align*}$이다. * 괄호 속의 R은 반지름의 최댓값이다"
      ]
    },
    {
      "cell_type": "markdown",
      "metadata": {
        "id": "8uwnkWKXiMyP",
        "colab_type": "text"
      },
      "source": [
        "$\\begin{align*}\n",
        "\\frac {\\partial^2Y}{\\partial\\Phi^2}+\\cot\\phi \\frac{\\partial Y}{\\partial\\Phi}+\\csc^2\\phi\\frac{\\partial^2Y}{\\partial \\Theta^2}+\\lambda Y =0 \\end{align*}$이다."
      ]
    },
    {
      "cell_type": "markdown",
      "metadata": {
        "id": "5Xu68ed9iOnj",
        "colab_type": "text"
      },
      "source": [
        "또한, $\\begin{align*}\n",
        " Y_{nm}(\\phi,\\theta)\\end{align*}$에서$\\begin{align*}m= 0,\\pm 1, \\pm2,\\cdot\\cdot\\cdot\\pm n\\end{align*}$ 이다."
      ]
    },
    {
      "cell_type": "markdown",
      "metadata": {
        "id": "ayFDTpSPiRGJ",
        "colab_type": "text"
      },
      "source": [
        "$\\begin{align*} k=\\mu^2 \\end{align*}$ 으로 두겠다."
      ]
    },
    {
      "cell_type": "markdown",
      "metadata": {
        "id": "QEeRV8pEiS3Y",
        "colab_type": "text"
      },
      "source": [
        "$\\begin{align*}\n",
        " Y_{nm}(\\phi,\\theta)\\end{align*}$에서$\\begin{align*}m= 0,\\pm 1, \\pm2,\\cdot\\cdot\\cdot\\pm n\\end{align*}$ "
      ]
    },
    {
      "cell_type": "markdown",
      "metadata": {
        "id": "tRHLKyHkiU48",
        "colab_type": "text"
      },
      "source": [
        "$\\begin{align*}\n",
        " r^2R''+2rR'+(\\mu^2r^2-n(n+1))R=0, R(a)=0 \\end{align*}$ 이다."
      ]
    },
    {
      "cell_type": "markdown",
      "metadata": {
        "id": "-XYnRQehiXNv",
        "colab_type": "text"
      },
      "source": [
        "$\\begin{align*}\n",
        " R_{n,j}(r)=j_n (\\mu_{n,j}r), n=0,1,2,\\cdot\\cdot\\cdot, j=1,2,\\cdot\\cdot\\cdot \\end{align*}$ 이므로\n",
        "\n",
        " $\\begin{align*}\n",
        " \\mu=\\mu_{n,j}=\\frac{\\alpha_{n+1/2j}}{a} \\end{align*}$ 에서\n",
        "\n",
        " $\\begin{align*}\n",
        " j_n(r)=(\\frac{\\pi}{2r})^{1/2}J_{n+\\frac{1}{2}}(r) \\end{align*}$ 이다\n",
        "\n",
        " 따라서, $\\begin{align*}\n",
        " \\left\\vert m \\right\\vert \\le n\\end{align*}$ 일 때,\n",
        "\n",
        " $\\begin{align*}\n",
        " u_{jnm}(r,\\phi,\\theta)=j_n(\\mu_{n,j}r)Y_{n,m}(\\phi,\\theta)\\end{align*}$이다.\n",
        "\n",
        " 구형 좌표계에서 원점에서 $p(r,\\phi,\\theta)$까지의 거리인 $\\rho$를 사용하여\n",
        "$u(r,\\phi,\\theta)$를 구하면,\n",
        "\n",
        "$\\begin{align*}\n",
        " u(r,\\phi,\\theta)=\\sum_{j=1}^\\infty \\sum_{n=0}^{2\\pi}\\sum_{m=-n}^nA_{jnm}j_n(\\lambda_{n,j}r)Y_{n,m}(\\phi,\\theta)\\end{align*}$ 이며\n",
        "\n",
        " $\\begin{align*}\n",
        " A_{jnm}=\\frac{2}{a^3 j_{n+1}^2 (\\alpha_{n+\\frac{1}{2},j})}\\times \\int_0^{2\\pi} \\int_0^\\pi \\int_0^R u(r,\\phi,\\theta)j_n (\\mu_{n,j} r)Y_{n,m}(\\phi,\\theta)r^2 dr d\\phi d\\theta \\end{align*}$ 이다\n",
        "\n",
        " Poisson equation에서는 \n",
        "\n",
        "$\\begin{align*}\n",
        " u(r,\\phi,\\theta)=\\sum_{j=1}^\\infty \\sum_{n=0}^{2\\pi}\\sum_{m=-n}^nB_{jnm}j_n(\\lambda_{n,j}r)Y_{n,m}(\\phi,\\theta)\\end{align*}$  이다. $\\begin{align*} B_{jnm}= \\frac{-1}{\\mu^2_{n,j}}A_{jnm} \\end{align*}$ 이다.\n",
        " \n",
        " $\\begin{align*}\n",
        " u(r,\\phi,\\theta)=\\sum_{j=1}^\\infty \\sum_{n=0}^{2\\pi}\\sum_{m=-n}^n-\\mu_{n,j}^2B_{jnm}j_n(\\lambda_{n,j}r)Y_{n,m}(\\phi,\\theta)\\end{align*}$ 가 된다 . 따라서 정리하면,\n",
        "\n",
        " $\\begin{align*}\n",
        " u(r,\\phi,\\theta)=\\int_0^{2\\pi} \\int_0^\\pi \\int_0^R\\sum_{j=1}^\\infty \\sum_{n=0}^{2\\pi}\\sum_{m=-n}^n \\frac{2}{a^3 j_{n+1}^2(\\alpha_{n+\\frac{1}{2},j})}j_n^2(\\mu_{n,j}r)Y_{nm}^2(\\phi,\\theta)F(\\rho, \\varphi,\\vartheta) \\,\\rho^2 \\sin\\varphi \\,d\\rho \\,d\\varphi \\, d\\vartheta \\end{align*}$\n",
        "\n",
        "따라서,$\\begin{align*} G(r,\\phi,\\theta; \\rho,\\varphi,\\vartheta) = \\sum_{j=1}^\\infty \\sum_{n=0}^{2\\pi}\\sum_{m=-n}^n \\frac{2}{a^3 j_{n+1}^2(\\alpha_{n+\\frac{1}{2},j})}j_n^2(\\mu_{n,j}r)Y_{nm}^2(\\phi,\\theta)\\end{align*}$ 이다."
      ]
    }
  ]
}